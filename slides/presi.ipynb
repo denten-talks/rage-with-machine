{
 "metadata": {
  "celltoolbar": "Slideshow",
  "name": "",
  "signature": "sha256:5ac0fb398ac282e27c4368afb7f8431c952e4a2ffa47129b947c16a6660fa0cd"
 },
 "nbformat": 3,
 "nbformat_minor": 0,
 "worksheets": [
  {
   "cells": [
    {
     "cell_type": "markdown",
     "metadata": {
      "slideshow": {
       "slide_type": "subslide"
      }
     },
     "source": [
      "# Rage with the Machine\n",
      "## Architectures of Control and Resistance\n",
      "@dennistenen  \n",
      "dennistenen.com  \n",
      "github.com/denten"
     ]
    },
    {
     "cell_type": "markdown",
     "metadata": {
      "slideshow": {
       "slide_type": "slide"
      }
     },
     "source": [
      "## Plan for today\n",
      "I. DH promise and hype  \n",
      "II. Case studies    \n",
      "III. What can you do?  "
     ]
    },
    {
     "cell_type": "markdown",
     "metadata": {
      "slideshow": {
       "slide_type": "slide"
      }
     },
     "source": [
      "## I: What is DH?\n",
      "\n",
      "`computational culture` studies  \n",
      "vs. \n",
      "computational `culture studies`"
     ]
    },
    {
     "cell_type": "markdown",
     "metadata": {
      "slideshow": {
       "slide_type": "fragment"
      }
     },
     "source": [
      "knowledge design + knowledge architecture   "
     ]
    },
    {
     "cell_type": "markdown",
     "metadata": {
      "slideshow": {
       "slide_type": "fragment"
      }
     },
     "source": [
      "advocacy: access, labor conditions, policy, global imbalance  "
     ]
    },
    {
     "cell_type": "markdown",
     "metadata": {
      "slideshow": {
       "slide_type": "subslide"
      }
     },
     "source": [
      "### thinking + doing\n",
      "\n",
      "| old              | new                   |\n",
      "|------------------|-----------------------|\n",
      "| dogmatic         | pragmatic             |\n",
      "| solitary         | cooperative           | \n",
      "| discipline-bound | project-based         | \n",
      "| resource-starved | entrepreneurial       | \n",
      "| hierarchical     | flat                  | \n",
      "| top-down         | bottom up             |\n",
      "| prestige         | problem solving       |\n",
      "| conservative     | transformative        |\n"
     ]
    },
    {
     "cell_type": "markdown",
     "metadata": {
      "slideshow": {
       "slide_type": "subslide"
      }
     },
     "source": [
      "### the bad and the ugly\n",
      "\n",
      "DH can also be:\n",
      "- instrumental\n",
      "- shallow \n",
      "- atheoretical\n",
      "- ahistorical\n",
      "- tool obsessed\n",
      "- meta solipsistic\n",
      "- administrative\n",
      "- sensationalist hype and kool-aid (not unlike big data)"
     ]
    },
    {
     "cell_type": "markdown",
     "metadata": {
      "slideshow": {
       "slide_type": "slide"
      }
     },
     "source": [
      "## II: Quick Case Studies\n",
      "### A. Aleph: Book Piracy as Peer Production\n",
      "- 1,021,000 books\n",
      "- 15,000,000 articles\n",
      "- 10+ tb"
     ]
    },
    {
     "cell_type": "markdown",
     "metadata": {
      "slideshow": {
       "slide_type": "fragment"
      }
     },
     "source": [
      "- $1,900 / year"
     ]
    },
    {
     "cell_type": "markdown",
     "metadata": {
      "slideshow": {
       "slide_type": "fragment"
      }
     },
     "source": [
      "- vs. $61,869,272 for CUL 2011-12"
     ]
    },
    {
     "cell_type": "markdown",
     "metadata": {
      "slideshow": {
       "slide_type": "subslide"
      }
     },
     "source": [
      "### B. Open Syllabus Project\n",
      "<img src=\"https://raw.githubusercontent.com/denten/talks/master/TC/osp.jpg\">"
     ]
    },
    {
     "cell_type": "markdown",
     "metadata": {
      "slideshow": {
       "slide_type": "subslide"
      }
     },
     "source": [
      "### C. Columbia Core\n",
      "<img src=\"https://raw.githubusercontent.com/denten/talks/master/TC/rap1.jpg\">"
     ]
    },
    {
     "cell_type": "markdown",
     "metadata": {
      "slideshow": {
       "slide_type": "subslide"
      }
     },
     "source": [
      "### Rap Genius IP\n",
      "<img src=\"https://raw.githubusercontent.com/denten/talks/master/TC/rap2.jpg\">"
     ]
    },
    {
     "cell_type": "markdown",
     "metadata": {
      "slideshow": {
       "slide_type": "subslide"
      }
     },
     "source": [
      "### D. Material contexts of knowledge production\n",
      "<img src=\"img/publishing.png\">"
     ]
    },
    {
     "cell_type": "markdown",
     "metadata": {
      "slideshow": {
       "slide_type": "fragment"
      }
     },
     "source": [
      "$4000 per article cost to the journal \n",
      "http://www.nature.com/news/open-access-the-true-cost-of-science-publishing-1.12676"
     ]
    },
    {
     "cell_type": "markdown",
     "metadata": {
      "slideshow": {
       "slide_type": "subslide"
      }
     },
     "source": [
      "<img src=\"img/protest.png\">"
     ]
    },
    {
     "cell_type": "markdown",
     "metadata": {
      "slideshow": {
       "slide_type": "slide"
      }
     },
     "source": [
      "## III: Architectures of ..\n",
      "Mumford, Lewis.  \"Authoritarian and Democratic Technics,\" *Technology and Culture* Vol 5.1 (Winter 1964), 1-8.\n",
      "\n",
      "> The center of authority in this new system is no longer a visible personality, an all-powerful king: even in totalitarian dictatorships the center now lies in the system itself, invisible but omnipresent: all its human components, even the technical and managerial elite, even the sacred priesthood of science, who alone have access to the secret knowledge by means of which total control is now swiftly being effected, are themselves trapped by the very perfection of the organization they have invented. Like the Pharoahs of the Pyramid Age, these servants of the system identify its goods with their own kind of well-being: as with the divine king, their praise of the system is an act of self-worship; and again like the king, they are in the grip of an irrational compulsion to extend their means of control and expand the scope of their authority. In this new **systems-centered collective**, this Pentagon of power, there is no visible presence who issues commands: unlike Job's God, the new deities cannot be confronted, still less defied. Under the pretext of saving labor, **the ultimate end of this technics is to displace life, or rather, to transfer the attributes of life to the machine and the mechanical collective, allowing only so much of the organism to remain as may be controlled and manipulated.** "
     ]
    },
    {
     "cell_type": "markdown",
     "metadata": {
      "slideshow": {
       "slide_type": "subslide"
      }
     },
     "source": [
      " Winner, Langdon. \"Do Artifacts Have Politics?\" in *The Whale and the Reactor: a Search for Limits in an Age of High Technology.* Chicago, University of Chicago Press, 1986.  \n",
      " \n",
      " > The things we call \"technologies\" are ways of building order in our world. Many technical devices and systems important in everyday life contain possibilities for many different ways of ordering human activity [...] societies choose structures for technologies that influence how people are going to work, communicate, travel, consume, and so forth over a long period of time [...] By far, **the greatest latitude of choice exists the very first time a particular instrument, system, or technique is introduced**. Because choices tend to become strongly fixed in material equipment, economic investment, and social habit, the original flexibility vanishes from all practical purposes one the initial commitments are made.\n",
      "\n",
      "> In that sense technological innovations are similar to legislative acts or political founding that establish a framework for public order that will endure for many generations. For that reason, the same careful attention one would give to the rules, roles, and relationship of politics must also be given to such things as the building of highways, the creation of television networks, and the tailoring of seemingly insignificant features on new machines. **The issues that divide or unite people in society are settled not only in the institutions and practices political proper, but also, and less obviously, in tangible arrangements of steel and concrete, wires and transistors, nuts and bolts**."
     ]
    },
    {
     "cell_type": "markdown",
     "metadata": {
      "slideshow": {
       "slide_type": "subslide"
      }
     },
     "source": [
      "Scarry, Elaine. \"Citizenship in Emergency,\" *Boston Review* Vol. 27, No. 5, October/November 2002. \n",
      "\n",
      "* openness \n",
      "* consent\n",
      "* deliberation\n",
      "* participation\n",
      "* agency (ability to change the world and the material constraints of technology itself)"
     ]
    },
    {
     "cell_type": "markdown",
     "metadata": {
      "slideshow": {
       "slide_type": "subslide"
      }
     },
     "source": [
      "<img src=\"img/base.png\">"
     ]
    },
    {
     "cell_type": "markdown",
     "metadata": {},
     "source": [
      "### What can be done?\n",
      "\n",
      "1. Embrace plain text\n",
      "2. Own material contexts of knowledge production\n",
      "3. Digital literacy\n",
      "4. Theory + Practice (rich instrumental reasoning)\n",
      "5. Invest in decentralized architecture\n",
      "7. Use free software (free as in freedom)\n",
      "6. Learn from peer production communities"
     ]
    },
    {
     "cell_type": "markdown",
     "metadata": {
      "slideshow": {
       "slide_type": "subslide"
      }
     },
     "source": [
      "### Stay in touch!  \n",
      "\n",
      "@dennistenen \n",
      "\n",
      "dennistenen.com  \n",
      "\n",
      "github.com/denten"
     ]
    }
   ],
   "metadata": {}
  }
 ]
}